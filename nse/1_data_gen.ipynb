{
 "cells": [
  {
   "cell_type": "code",
   "execution_count": 1,
   "metadata": {},
   "outputs": [],
   "source": [
    "import sys\n",
    "sys.path.append(\"..\")\n",
    "sys.path.append(\"../env\")\n",
    "\n",
    "from env.Cylinder_Rotation_Env import Cylinder_Rotation_Env\n",
    "import numpy as np\n",
    "import torch\n",
    "from timeit import default_timer\n",
    "\n",
    "import matplotlib.pyplot as plt\n",
    "from fenics import plot"
   ]
  },
  {
   "cell_type": "code",
   "execution_count": 3,
   "metadata": {},
   "outputs": [
    {
     "name": "stderr",
     "output_type": "stream",
     "text": [
      "/opt/conda/envs/pytorch-py3.8/lib/python3.8/site-packages/gym/logger.py:30: UserWarning: \u001b[33mWARN: Box bound precision lowered by casting to float32\u001b[0m\n",
      "  warnings.warn(colorize('%s: %s'%('WARN', msg % args), 'yellow'))\n"
     ]
    },
    {
     "name": "stdout",
     "output_type": "stream",
     "text": [
      "start init_solve\n",
      "end init_solve\n",
      "{'dtr': 0.1, 'T': 1, 'rho_0': 1, 'mu': 0.001, 'traj_max_T': 20, 'dimx': 128, 'dimy': 64, 'min_x': 0, 'max_x': 2.2, 'min_y': 0, 'max_y': 0.41, 'r': 0.05, 'center': (0.2, 0.2), 'min_w': -1, 'max_w': 1, 'min_velocity': -1, 'max_velocity': 1, 'U_max': 1.5}\n",
      "dT: 1, ny: 64, nx: 128\n"
     ]
    }
   ],
   "source": [
    "# env init\n",
    "env = Cylinder_Rotation_Env(params={'dtr': 0.1, 'T': 1, 'rho_0': 1, 'mu' : 1/1000,\n",
    "                                    'traj_max_T': 20, 'dimx': 128, 'dimy': 64,\n",
    "                                    'min_x' : 0,  'max_x' : 2.2, \n",
    "                                    'min_y' : 0,  'max_y' : 0.41, \n",
    "                                    'r' : 0.05,  'center':(0.2, 0.2),\n",
    "                                    'min_w': -1, 'max_w': 1,\n",
    "                                    'min_velocity': -1, 'max_velocity': 1,\n",
    "                                    'U_max': 1.5, })\n",
    "\n",
    "print(env.params)\n",
    "\n",
    "# one step: 10 timestamps for dT = 1\n",
    "\n",
    "# env params\n",
    "dT = env.params['T']\n",
    "nx = env.params['dimx']\n",
    "ny = env.params['dimy']\n",
    "print('dT: {}, ny: {}, nx: {}'.format(dT, ny, nx))"
   ]
  },
  {
   "cell_type": "markdown",
   "metadata": {},
   "source": [
    "# Phase 1"
   ]
  },
  {
   "cell_type": "code",
   "execution_count": 4,
   "metadata": {},
   "outputs": [
    {
     "name": "stdout",
     "output_type": "stream",
     "text": [
      "dT: 1 | nt: 10\n",
      "state_data_size :(25, 10, 128, 64, 3)\n",
      "Calling FFC just-in-time (JIT) compiler, this may take some time.\n",
      "Calling FFC just-in-time (JIT) compiler, this may take some time.\n",
      "Calling FFC just-in-time (JIT) compiler, this may take some time.\n",
      "Calling FFC just-in-time (JIT) compiler, this may take some time.\n",
      "Calling FFC just-in-time (JIT) compiler, this may take some time.\n",
      "Calling FFC just-in-time (JIT) compiler, this may take some time.\n",
      "Calling FFC just-in-time (JIT) compiler, this may take some time.\n",
      "# 0 | time: 35.02145939500042\n",
      "# 1 | time: 30.467111713000122\n",
      "# 2 | time: 29.704960181999922\n",
      "# 3 | time: 29.973145222998937\n",
      "# 4 | time: 32.23555328400107\n",
      "# 5 | time: 32.37948020299882\n",
      "# 6 | time: 32.39666214499994\n",
      "# 7 | time: 32.15048775499963\n",
      "# 8 | time: 32.291007050998815\n",
      "# 9 | time: 33.936636614000236\n",
      "# 10 | time: 31.740090007000617\n",
      "# 11 | time: 31.544712767999954\n",
      "# 12 | time: 31.28017566500057\n",
      "# 13 | time: 31.30180005800139\n",
      "# 14 | time: 30.986818155999572\n",
      "# 15 | time: 30.992989121999926\n",
      "# 16 | time: 31.248434981000173\n",
      "# 17 | time: 30.881042164000974\n",
      "# 18 | time: 30.961637678001352\n",
      "# 19 | time: 31.35071461699954\n",
      "# 20 | time: 31.58249478000107\n",
      "# 21 | time: 31.27361136699983\n",
      "# 22 | time: 31.5168111160001\n",
      "# 23 | time: 31.402436546999525\n",
      "# 24 | time: 31.206869495999854\n"
     ]
    }
   ],
   "source": [
    "# data generation\n",
    "\n",
    "N0 = 25     # N0 set of data\n",
    "nT = 10\n",
    "print(f'dT: {dT} | nT: {nT}')\n",
    "\n",
    "# data generate\n",
    "obs = np.zeros((N0, nT, nx, ny, 3))\n",
    "print(f'state_data_size :{obs.shape}')\n",
    "C_D, C_L, reward = np.zeros((N0, nT)), np.zeros((N0, nT)), np.zeros((N0, nT))\n",
    "ang_vel = 3 * (2 * np.random.rand(N0, nT) - 1)\n",
    "for k in range(N0):\n",
    "    start = default_timer()\n",
    "    env.reset()\n",
    "    \n",
    "    ang_v = ang_vel[k]\n",
    "    \n",
    "    for i in range(nT):\n",
    "        # obs, reward, C_D, C_L, episode_over, _ = env.step(ang_vel[i])\n",
    "        obs[k, i], reward[k, i], C_D[k, i], C_L[k, i] = env.step(ang_v[i])\n",
    "        # obs[k, i], reward[k, i], C_D[k, i], C_L[k, i] = env.step(0.00)     \n",
    "    \n",
    "    end = default_timer()\n",
    "\n",
    "    print(f'# {k} | time: {end-start}')\n",
    "    # print(f'ang_vel: {ang_v}')\n",
    "    # print(f'reward :{reward[k]}')\n",
    "\n",
    "# np to tensor\n",
    "obs_tensor = torch.Tensor(obs)\n",
    "reward_tensor = torch.Tensor(reward)\n",
    "C_D_tensor = torch.Tensor(C_D)\n",
    "C_L_tensor = torch.Tensor(C_L)\n",
    "ang_vel_tensor = torch.Tensor(ang_vel)\n",
    "\n",
    "data = [obs_tensor, reward_tensor, C_D_tensor, C_L_tensor, ang_vel_tensor]\n",
    "\n",
    "# save data\n",
    "torch.save(data, './data/nse_data_N0_{}_nT_{}'.format(N0, nT))"
   ]
  },
  {
   "cell_type": "markdown",
   "metadata": {},
   "source": [
    "# Phase 2"
   ]
  },
  {
   "cell_type": "code",
   "execution_count": null,
   "metadata": {},
   "outputs": [
    {
     "name": "stdout",
     "output_type": "stream",
     "text": [
      "[[0.7489629  0.8306361  0.81679702 0.64059824 0.14468882 0.6300126\n",
      "  0.54851793 0.36947325 0.94468961 0.94393485]]\n"
     ]
    }
   ],
   "source": [
    "# data generation\n",
    "\n",
    "N0 = 1     # N0 set of data\n",
    "nT = 10\n",
    "\n",
    "# data generate\n",
    "obs = np.zeros((N0, nT, nx, ny, 3))\n",
    "print(f'state_data_size :{obs.shape}')\n",
    "C_D, C_L, reward = np.zeros((N0, nT)), np.zeros((N0, nT)), np.zeros((N0, nT))\n",
    "ang_vel = 3 * (2 * np.random.rand(N0, nT) - 1)\n",
    "for k in range(N0):\n",
    "    start = default_timer()\n",
    "    env.reset()\n",
    "    \n",
    "    ang_v = ang_vel[k]\n",
    "    \n",
    "    for i in range(nT):\n",
    "        # obs, reward, C_D, C_L, episode_over, _ = env.step(ang_vel[i])\n",
    "        obs[k, i], reward[k, i], C_D[k, i], C_L[k, i] = env.step(ang_v[i])\n",
    "        # obs[k, i], reward[k, i], C_D[k, i], C_L[k, i] = env.step(0.00)     \n",
    "    \n",
    "    end = default_timer()\n",
    "\n",
    "    print(f'# {k} | time: {end-start}')\n",
    "    # print(f'ang_vel: {ang_v}')\n",
    "    # print(f'reward :{reward[k]}')\n",
    "\n",
    "# np to tensor\n",
    "obs_tensor = torch.Tensor(obs)\n",
    "reward_tensor = torch.Tensor(reward)\n",
    "C_D_tensor = torch.Tensor(C_D)\n",
    "C_L_tensor = torch.Tensor(C_L)\n",
    "ang_vel_tensor = torch.Tensor(ang_vel)\n",
    "\n",
    "data = [obs_tensor, reward_tensor, C_D_tensor, C_L_tensor, ang_vel_tensor]\n",
    "\n",
    "# save data\n",
    "torch.save(data, './data/nse_control_samples')"
   ]
  }
 ],
 "metadata": {
  "kernelspec": {
   "display_name": "Python 3.8.13 ('pytorch-py3.8')",
   "language": "python",
   "name": "python3"
  },
  "language_info": {
   "codemirror_mode": {
    "name": "ipython",
    "version": 3
   },
   "file_extension": ".py",
   "mimetype": "text/x-python",
   "name": "python",
   "nbconvert_exporter": "python",
   "pygments_lexer": "ipython3",
   "version": "3.8.13"
  },
  "orig_nbformat": 4,
  "vscode": {
   "interpreter": {
    "hash": "50d4324570b9047bb8497de954012e60daa990744e3e468319d6e91ebba54431"
   }
  }
 },
 "nbformat": 4,
 "nbformat_minor": 2
}
