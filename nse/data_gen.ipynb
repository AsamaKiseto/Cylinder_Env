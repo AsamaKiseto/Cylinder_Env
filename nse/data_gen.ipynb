{
 "cells": [
  {
   "cell_type": "code",
   "execution_count": 1,
   "metadata": {},
   "outputs": [],
   "source": [
    "from Cylinder_Env import Cylinder_Rotation_Env\n",
    "import numpy as np\n",
    "import torch\n",
    "from timeit import default_timer\n",
    "\n",
    "import matplotlib.pyplot as plt\n",
    "from fenics import plot"
   ]
  },
  {
   "cell_type": "code",
   "execution_count": 2,
   "metadata": {},
   "outputs": [
    {
     "name": "stdout",
     "output_type": "stream",
     "text": [
      "{'dtr': 0.1, 'T': 1, 'rho_0': 1, 'mu': 0.001, 'traj_max_T': 20, 'dimx': 128, 'dimy': 64, 'min_x': 0, 'max_x': 2.2, 'min_y': 0, 'max_y': 0.41, 'r': 0.05, 'center': (0.2, 0.2), 'min_w': -1, 'max_w': 1, 'min_velocity': -1, 'max_velocity': 1, 'U_max': 1.5}\n",
      "dt: 0.1 | nt: 10\n"
     ]
    }
   ],
   "source": [
    "# env init\n",
    "env = Cylinder_Rotation_Env(params={'dtr': 0.1, 'T': 1, 'rho_0': 1, 'mu' : 1/1000,\n",
    "                                    'traj_max_T': 20, 'dimx': 128, 'dimy': 64,\n",
    "                                    'min_x' : 0,  'max_x' : 2.2, \n",
    "                                    'min_y' : 0,  'max_y' : 0.41, \n",
    "                                    'r' : 0.05,  'center':(0.2, 0.2),\n",
    "                                    'min_w': -1, 'max_w': 1,\n",
    "                                    'min_velocity': -1, 'max_velocity': 1,\n",
    "                                    'U_max': 1.5, })\n",
    "\n",
    "print(env.params)\n",
    "\n",
    "# param setting\n",
    "N0 = 1     # N0 set of data\n",
    "dt = env.params['dtr'] * env.params['T']\n",
    "nt = int(- (env.params['T'] // -dt))\n",
    "nx = env.params['dimx']\n",
    "ny = env.params['dimy']\n",
    "print(f'dt: {dt} | nt: {nt}')"
   ]
  },
  {
   "cell_type": "code",
   "execution_count": 1,
   "metadata": {},
   "outputs": [
    {
     "ename": "NameError",
     "evalue": "name 'np' is not defined",
     "output_type": "error",
     "traceback": [
      "\u001b[0;31m---------------------------------------------------------------------------\u001b[0m",
      "\u001b[0;31mNameError\u001b[0m                                 Traceback (most recent call last)",
      "\u001b[0;32m<ipython-input-1-f6fda34aee93>\u001b[0m in \u001b[0;36m<module>\u001b[0;34m\u001b[0m\n\u001b[1;32m      1\u001b[0m \u001b[0;31m# data generate\u001b[0m\u001b[0;34m\u001b[0m\u001b[0;34m\u001b[0m\u001b[0;34m\u001b[0m\u001b[0m\n\u001b[0;32m----> 2\u001b[0;31m \u001b[0mobs\u001b[0m \u001b[0;34m=\u001b[0m \u001b[0mnp\u001b[0m\u001b[0;34m.\u001b[0m\u001b[0mzeros\u001b[0m\u001b[0;34m(\u001b[0m\u001b[0;34m(\u001b[0m\u001b[0mN0\u001b[0m\u001b[0;34m,\u001b[0m \u001b[0mnt\u001b[0m\u001b[0;34m,\u001b[0m \u001b[0mnx\u001b[0m\u001b[0;34m,\u001b[0m \u001b[0mny\u001b[0m\u001b[0;34m,\u001b[0m \u001b[0;36m3\u001b[0m\u001b[0;34m)\u001b[0m\u001b[0;34m)\u001b[0m\u001b[0;34m\u001b[0m\u001b[0;34m\u001b[0m\u001b[0m\n\u001b[0m\u001b[1;32m      3\u001b[0m \u001b[0mprint\u001b[0m\u001b[0;34m(\u001b[0m\u001b[0;34mf'data_size :{obs.shape}'\u001b[0m\u001b[0;34m)\u001b[0m\u001b[0;34m\u001b[0m\u001b[0;34m\u001b[0m\u001b[0m\n\u001b[1;32m      4\u001b[0m \u001b[0mC_D\u001b[0m\u001b[0;34m,\u001b[0m \u001b[0mC_L\u001b[0m\u001b[0;34m,\u001b[0m \u001b[0mreward\u001b[0m \u001b[0;34m=\u001b[0m \u001b[0mnp\u001b[0m\u001b[0;34m.\u001b[0m\u001b[0mzeros\u001b[0m\u001b[0;34m(\u001b[0m\u001b[0;34m(\u001b[0m\u001b[0mN0\u001b[0m\u001b[0;34m,\u001b[0m \u001b[0mnt\u001b[0m\u001b[0;34m)\u001b[0m\u001b[0;34m)\u001b[0m\u001b[0;34m,\u001b[0m \u001b[0mnp\u001b[0m\u001b[0;34m.\u001b[0m\u001b[0mzeros\u001b[0m\u001b[0;34m(\u001b[0m\u001b[0;34m(\u001b[0m\u001b[0mN0\u001b[0m\u001b[0;34m,\u001b[0m \u001b[0mnt\u001b[0m\u001b[0;34m)\u001b[0m\u001b[0;34m)\u001b[0m\u001b[0;34m,\u001b[0m \u001b[0mnp\u001b[0m\u001b[0;34m.\u001b[0m\u001b[0mzeros\u001b[0m\u001b[0;34m(\u001b[0m\u001b[0;34m(\u001b[0m\u001b[0mN0\u001b[0m\u001b[0;34m,\u001b[0m \u001b[0mnt\u001b[0m\u001b[0;34m)\u001b[0m\u001b[0;34m)\u001b[0m\u001b[0;34m\u001b[0m\u001b[0;34m\u001b[0m\u001b[0m\n\u001b[1;32m      5\u001b[0m \u001b[0mang_vel\u001b[0m \u001b[0;34m=\u001b[0m \u001b[0mnp\u001b[0m\u001b[0;34m.\u001b[0m\u001b[0mrandom\u001b[0m\u001b[0;34m.\u001b[0m\u001b[0mrand\u001b[0m\u001b[0;34m(\u001b[0m\u001b[0mN0\u001b[0m\u001b[0;34m,\u001b[0m \u001b[0mnt\u001b[0m\u001b[0;34m)\u001b[0m\u001b[0;34m\u001b[0m\u001b[0;34m\u001b[0m\u001b[0m\n",
      "\u001b[0;31mNameError\u001b[0m: name 'np' is not defined"
     ]
    }
   ],
   "source": [
    "# data generate\n",
    "obs = np.zeros((N0, nt, nx, ny, 3))\n",
    "print(f'data_size :{obs.shape}')\n",
    "C_D, C_L, reward = np.zeros((N0, nt)), np.zeros((N0, nt)), np.zeros((N0, nt))\n",
    "ang_vel = np.random.rand(N0, nt)\n",
    "for k in range(N0):\n",
    "    obs[k] = env.reset()\n",
    "    \n",
    "    ang_v = ang_vel[k]\n",
    "    print(f'ang_vel: {ang_v}')   \n",
    "\n",
    "    for i in range(nt):\n",
    "        # obs, reward, C_D, C_L, episode_over, _ = env.step(ang_vel[i])\n",
    "        obs[k, i], reward[k, i], C_D[k, i], C_L[k, i] = env.step(ang_v[i])\n",
    "        \n",
    "    print(f'obs.size: {obs.shape}')\n",
    "    print(f'reward :{reward[k]}')\n",
    "    "
   ]
  },
  {
   "cell_type": "code",
   "execution_count": 5,
   "metadata": {},
   "outputs": [
    {
     "name": "stdout",
     "output_type": "stream",
     "text": [
      "[[0.7489629  0.8306361  0.81679702 0.64059824 0.14468882 0.6300126\n",
      "  0.54851793 0.36947325 0.94468961 0.94393485]]\n"
     ]
    }
   ],
   "source": [
    "# np to tensor\n",
    "obs_tensor = torch.Tensor(obs)\n",
    "reward_tensor = torch.Tensor(reward)\n",
    "C_D_tensor = torch.Tensor(C_D)\n",
    "C_L_tensor = torch.Tensor(C_L)\n",
    "ang_vel_tensor = torch.Tensor(ang_vel)\n",
    "\n",
    "# save data\n",
    "# torch.save([obs_tensor, reward_tensor, C_D_tensor, C_L_tensor, ang_vel_tensor], '/home/fenics/shared/nse/data/nse_data_N0_25_dt_0.1_T_1')\n",
    "\n",
    "print(ang_vel)"
   ]
  }
 ],
 "metadata": {
  "kernelspec": {
   "display_name": "Python 3.6.7 64-bit",
   "language": "python",
   "name": "python3"
  },
  "language_info": {
   "codemirror_mode": {
    "name": "ipython",
    "version": 3
   },
   "file_extension": ".py",
   "mimetype": "text/x-python",
   "name": "python",
   "nbconvert_exporter": "python",
   "pygments_lexer": "ipython3",
   "version": "3.6.7"
  },
  "orig_nbformat": 4,
  "vscode": {
   "interpreter": {
    "hash": "31f2aee4e71d21fbe5cf8b01ff0e069b9275f58929596ceb00d14d90e3e16cd6"
   }
  }
 },
 "nbformat": 4,
 "nbformat_minor": 2
}
